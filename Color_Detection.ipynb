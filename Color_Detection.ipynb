{
 "cells": [
  {
   "cell_type": "code",
   "execution_count": 1,
   "id": "3ba6652c-cbd1-4311-80c8-5c443a3063bf",
   "metadata": {},
   "outputs": [],
   "source": [
    "# pip install opencv-python"
   ]
  },
  {
   "cell_type": "code",
   "execution_count": 2,
   "id": "46c33db8-9f36-4f4f-9008-413059052965",
   "metadata": {},
   "outputs": [],
   "source": [
    "import cv2\n",
    "import numpy as np\n",
    "import pandas as pd"
   ]
  },
  {
   "cell_type": "code",
   "execution_count": 4,
   "id": "b72c6cfe-4192-41e1-84af-fc41036a2760",
   "metadata": {},
   "outputs": [
    {
     "name": "stdin",
     "output_type": "stream",
     "text": [
      "What is the location of the image?(input the filepath without quotes):  desktop/colorpic.jpg\n"
     ]
    }
   ],
   "source": [
    "\n",
    "#Filepath of the image to be analyzed\n",
    "img_location = input('What is the location of the image?(input the filepath without quotes): ')\n",
    "img = cv2.imread(img_location)\n",
    "\n",
    "#Variable for when an area of the igmage is double clicked\n",
    "clicked = False\n",
    "r, g, b, xpos, ypos = 0, 0, 0, 0, 0\n",
    "\n",
    "#Dataframe of colors and how it will be displayed\n",
    "index = [\"color\", \"color_name\", \"hex\", \"R\", \"G\", \"B\"]\n",
    "csv = pd.read_csv(\"Color_Detection/colors.csv\", names=index, header=None)\n",
    "\n",
    "#The function that reads the position of the selected pixel and returns the information of that pixel\n",
    "def call_back_function (event, x, y, flags, param):\n",
    "    global b, g, r, xpos, ypos, clicked\n",
    "    if event == cv2.EVENT_LBUTTONDBLCLK:\n",
    "        clicked = True\n",
    "        xpos = x\n",
    "        ypos = y\n",
    "        b, g, r = img[y, x]\n",
    "        b = int(b)\n",
    "        g = int(g)\n",
    "        r = int(r)\n",
    "        \n",
    "#The function that will take the values of b,g,r and compare it to the dataframe in order to relay the color of the selected pixel\n",
    "def getColorName(R, G, B):\n",
    "    minimum = 10000\n",
    "    for i in range(len(csv)):\n",
    "        d = abs(R- int(csv.loc[i,\"R\"])) + abs(G-int(csv.loc[i,\"G\"]))+ abs(B- int(csv.loc[i,\"B\"]))\n",
    "        if(d<=minimum):\n",
    "            minimum = d\n",
    "            cname = csv.loc[i,\"color_name\"]\n",
    "    return cname\n",
    "\n",
    "#The window that pops up in order to select a pixel\n",
    "cv2.namedWindow(\"Color Detection Window\")\n",
    "cv2.setMouseCallback(\"Color Detection Window\", call_back_function)\n",
    "\n",
    "#While loop until 'ESC' is pressed to end\n",
    "while(1):\n",
    "    cv2.imshow(\"Color Detection Window\", img)\n",
    "    if clicked:\n",
    "        cv2.rectangle(img, (20, 20), (750, 60), (b, g, r), -1)\n",
    "        text = getColorName(r, g, b) + ' R=' + str(r) + ' G=' + str(g) + ' B=' + str(b)\n",
    "        cv2.putText(img, text, (50, 50), 2, 0.8, (255, 255, 255), 2, cv2.LINE_AA)\n",
    "        if r + g + b >= 600:\n",
    "            cv2.putText(img, text, (50, 50), 2, 0.8, (0, 0, 0), 2, cv2.LINE_AA)\n",
    "            clicked = False\n",
    "    if cv2.waitKey(20) & 0xFF == 27:\n",
    "        break\n",
    "\n",
    "cv2.destroyAllWindows()\n"
   ]
  },
  {
   "cell_type": "code",
   "execution_count": null,
   "id": "e9ac42b1-e0b6-4c8d-ad96-8783328ecd23",
   "metadata": {},
   "outputs": [],
   "source": []
  }
 ],
 "metadata": {
  "kernelspec": {
   "display_name": "Python 3 (ipykernel)",
   "language": "python",
   "name": "python3"
  },
  "language_info": {
   "codemirror_mode": {
    "name": "ipython",
    "version": 3
   },
   "file_extension": ".py",
   "mimetype": "text/x-python",
   "name": "python",
   "nbconvert_exporter": "python",
   "pygments_lexer": "ipython3",
   "version": "3.9.12"
  }
 },
 "nbformat": 4,
 "nbformat_minor": 5
}
